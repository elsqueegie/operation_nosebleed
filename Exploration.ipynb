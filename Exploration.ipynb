{
 "cells": [
  {
   "cell_type": "code",
   "execution_count": 39,
   "metadata": {
    "collapsed": false
   },
   "outputs": [],
   "source": [
    "import pandas as pd\n",
    "import numpy as np\n",
    "import os\n",
    "import matplotlib.pyplot as plt\n",
    "import seaborn as sns\n",
    "import statsmodels.api as sm\n",
    "\n",
    "%matplotlib inline"
   ]
  },
  {
   "cell_type": "code",
   "execution_count": 4,
   "metadata": {
    "collapsed": true
   },
   "outputs": [],
   "source": [
    "file1 = pd.ExcelFile('../01_Data/160701-Answers-to-QON-856-60.xlsx')\n",
    "file2 = pd.ExcelFile('../01_Data/Copy-of-Census-2011-LAC-Demographic-Data-3.xlsx')"
   ]
  },
  {
   "cell_type": "code",
   "execution_count": 5,
   "metadata": {
    "collapsed": true
   },
   "outputs": [],
   "source": [
    "df = pd.DataFrame()\n",
    "\n",
    "for isheet in file1.sheet_names:\n",
    "    if 'LAC' in isheet:\n",
    "        to_append = file1.parse(sheetname=isheet)\n",
    "        to_append['Sheet'] = isheet\n",
    "        df = pd.concat([df,to_append])\n",
    "        \n",
    "df['LAC'] = df['LAC'].str.upper()"
   ]
  },
  {
   "cell_type": "code",
   "execution_count": 6,
   "metadata": {
    "collapsed": true
   },
   "outputs": [],
   "source": [
    "df.loc[\n",
    "    (df['LAC'].isin([\n",
    "                'CAMDEN','COOTAMUNDRA','GRIFFITH','MUDGEE','QUAKERS HILL','RICHMOND'\n",
    "            ])), 'LAC'\n",
    "] = df.loc[\n",
    "    (df['LAC'].isin([\n",
    "                'CAMDEN','COOTAMUNDRA','GRIFFITH','MUDGEE','QUAKERS HILL','RICHMOND'\n",
    "            ])), 'LAC'\n",
    "] + ' LAC'\n",
    "\n",
    "df.loc[\n",
    "    (df['LAC']=='SYDNEY CITY'), 'LAC'\n",
    "] = 'CITY CENTRAL'"
   ]
  },
  {
   "cell_type": "code",
   "execution_count": 307,
   "metadata": {
    "collapsed": false
   },
   "outputs": [
    {
     "name": "stderr",
     "output_type": "stream",
     "text": [
      "/Users/jmacdonald/anaconda/lib/python3.5/site-packages/ipykernel/__main__.py:19: SettingWithCopyWarning: \n",
      "A value is trying to be set on a copy of a slice from a DataFrame.\n",
      "Try using .loc[row_indexer,col_indexer] = value instead\n",
      "\n",
      "See the caveats in the documentation: http://pandas.pydata.org/pandas-docs/stable/indexing.html#indexing-view-versus-copy\n"
     ]
    }
   ],
   "source": [
    "NSW = pd.read_csv('../01_Data/NSW_all_measures_LAC.csv')\n",
    "\n",
    "metadata = pd.ExcelFile('../01_Data/NSW_2011/Metadata/Metadata_2011_PEP_DataPack.xlsx'\n",
    "                       ).parse(sheetname='Table Number, Name, Population', skiprows=2)\n",
    "\n",
    "metadata = metadata[metadata['Table number'].isin([\n",
    "            'P01','P06','P07','P08','P10','P11','P13','P16','P17','P28','P32'\n",
    "        ])]\n",
    "\n",
    "nsw = NSW[['LAC']+[col for col in NSW.columns.values if col.split('|')[0] in metadata['Table number'].values]]\n",
    "\n",
    "inner = df.merge(nsw,how=\"inner\")\n",
    "inner = inner[inner['Sheet']!='LAC Totals'].drop(['2014','2015','2016 to date','Unnamed: 5','Unnamed: 6'], axis=1)\n",
    "\n",
    "inner_2015 = inner[inner['Sheet'] == 'LAC 2015']\n",
    "\n",
    "\n",
    "\n",
    "inner_2015['Searches_per_hundred'] = inner_2015['Total']/inner_2015['P01|Tot_P_P']*100"
   ]
  },
  {
   "cell_type": "code",
   "execution_count": 308,
   "metadata": {
    "collapsed": false
   },
   "outputs": [
    {
     "name": "stderr",
     "output_type": "stream",
     "text": [
      "/Users/jmacdonald/anaconda/lib/python3.5/site-packages/ipykernel/__main__.py:6: SettingWithCopyWarning: \n",
      "A value is trying to be set on a copy of a slice from a DataFrame.\n",
      "Try using .loc[row_indexer,col_indexer] = value instead\n",
      "\n",
      "See the caveats in the documentation: http://pandas.pydata.org/pandas-docs/stable/indexing.html#indexing-view-versus-copy\n",
      "/Users/jmacdonald/anaconda/lib/python3.5/site-packages/ipykernel/__main__.py:17: SettingWithCopyWarning: \n",
      "A value is trying to be set on a copy of a slice from a DataFrame.\n",
      "Try using .loc[row_indexer,col_indexer] = value instead\n",
      "\n",
      "See the caveats in the documentation: http://pandas.pydata.org/pandas-docs/stable/indexing.html#indexing-view-versus-copy\n",
      "/Users/jmacdonald/anaconda/lib/python3.5/site-packages/ipykernel/__main__.py:13: SettingWithCopyWarning: \n",
      "A value is trying to be set on a copy of a slice from a DataFrame.\n",
      "Try using .loc[row_indexer,col_indexer] = value instead\n",
      "\n",
      "See the caveats in the documentation: http://pandas.pydata.org/pandas-docs/stable/indexing.html#indexing-view-versus-copy\n",
      "/Users/jmacdonald/anaconda/lib/python3.5/site-packages/ipykernel/__main__.py:21: SettingWithCopyWarning: \n",
      "A value is trying to be set on a copy of a slice from a DataFrame.\n",
      "Try using .loc[row_indexer,col_indexer] = value instead\n",
      "\n",
      "See the caveats in the documentation: http://pandas.pydata.org/pandas-docs/stable/indexing.html#indexing-view-versus-copy\n",
      "/Users/jmacdonald/anaconda/lib/python3.5/site-packages/ipykernel/__main__.py:25: SettingWithCopyWarning: \n",
      "A value is trying to be set on a copy of a slice from a DataFrame.\n",
      "Try using .loc[row_indexer,col_indexer] = value instead\n",
      "\n",
      "See the caveats in the documentation: http://pandas.pydata.org/pandas-docs/stable/indexing.html#indexing-view-versus-copy\n",
      "/Users/jmacdonald/anaconda/lib/python3.5/site-packages/ipykernel/__main__.py:27: SettingWithCopyWarning: \n",
      "A value is trying to be set on a copy of a slice from a DataFrame.\n",
      "Try using .loc[row_indexer,col_indexer] = value instead\n",
      "\n",
      "See the caveats in the documentation: http://pandas.pydata.org/pandas-docs/stable/indexing.html#indexing-view-versus-copy\n",
      "/Users/jmacdonald/anaconda/lib/python3.5/site-packages/ipykernel/__main__.py:33: SettingWithCopyWarning: \n",
      "A value is trying to be set on a copy of a slice from a DataFrame.\n",
      "Try using .loc[row_indexer,col_indexer] = value instead\n",
      "\n",
      "See the caveats in the documentation: http://pandas.pydata.org/pandas-docs/stable/indexing.html#indexing-view-versus-copy\n"
     ]
    }
   ],
   "source": [
    "inner_2015['AGG|indig_%_of_pop'] = inner_2015[\n",
    "    [\n",
    "        col for col in inner_2015.columns.values if 'Indig_status_ns_P' in col and\n",
    "        any(['20_24' in col,'25_29' in col, '30_34' in col])\n",
    "    ]\n",
    "].sum(axis=1)/inner_2015['P01|Tot_P_P']*100\n",
    "\n",
    "for col in [\n",
    "        col for col in inner_2015 if 'P28|' in col if '_Tot' in col and '_Inc' not in col and 'Tot_Tot' not in col\n",
    "    and 'sum_prod' not in col\n",
    "    ]:\n",
    "    if col == 'P28|Inc_4000orMore_Tot':\n",
    "        inner_2015[col+'sum_prod'] = inner_2015[col] * 5500\n",
    "    elif col == 'P28|Tot_Tot':\n",
    "        None\n",
    "    else:\n",
    "        inner_2015[col+'sum_prod'] = inner_2015[col] * (int(col.split('_')[1]) + int(col.split('_')[2])) / 2\n",
    "        \n",
    "inner_2015['AGG|Average_Hhold_Income_000s'] = inner_2015[\n",
    "    [col for col in inner_2015 if 'sum_prod' in col]\n",
    "].sum(axis=1) / inner_2015['P28|Tot_Tot'] / 1000\n",
    "\n",
    "inner_2015['Income_Dist'] = inner_2015[\n",
    "    [col for col in inner_2015 if 'P28|' in col if '_Tot' in col and '_Inc' not in col and 'Tot_Tot' not in col]\n",
    "].std(axis=1)\n",
    "\n",
    "inner_2015['AGG|Tourists_per_cap'] = inner_2015['P01|OS_vis_P'] / inner_2015['P01|Tot_P_P']\n",
    "\n",
    "inner_2015['AGG|CALD_%'] = inner_2015[[\n",
    "    col for col in inner_2015 if 'P13|' in col \n",
    "    and col[-2:] == '_P' \n",
    "    and any((i in col) for i in ['Tamil','Thai','Iranic_Lang_Oth','Turkish'])\n",
    "]].sum(axis=1) / inner_2015['P01|Tot_P_P'] * 100"
   ]
  },
  {
   "cell_type": "code",
   "execution_count": 309,
   "metadata": {
    "collapsed": false
   },
   "outputs": [
    {
     "name": "stderr",
     "output_type": "stream",
     "text": [
      "/Users/jmacdonald/anaconda/lib/python3.5/site-packages/ipykernel/__main__.py:1: SettingWithCopyWarning: \n",
      "A value is trying to be set on a copy of a slice from a DataFrame.\n",
      "Try using .loc[row_indexer,col_indexer] = value instead\n",
      "\n",
      "See the caveats in the documentation: http://pandas.pydata.org/pandas-docs/stable/indexing.html#indexing-view-versus-copy\n",
      "  if __name__ == '__main__':\n"
     ]
    },
    {
     "data": {
      "text/html": [
       "<table class=\"simpletable\">\n",
       "<caption>OLS Regression Results</caption>\n",
       "<tr>\n",
       "  <th>Dep. Variable:</th>    <td>Searches_per_hundred</td> <th>  R-squared:         </th> <td>   0.888</td>\n",
       "</tr>\n",
       "<tr>\n",
       "  <th>Model:</th>                     <td>OLS</td>         <th>  Adj. R-squared:    </th> <td>   0.883</td>\n",
       "</tr>\n",
       "<tr>\n",
       "  <th>Method:</th>               <td>Least Squares</td>    <th>  F-statistic:       </th> <td>   185.3</td>\n",
       "</tr>\n",
       "<tr>\n",
       "  <th>Date:</th>               <td>Wed, 12 Oct 2016</td>   <th>  Prob (F-statistic):</th> <td>3.19e-33</td>\n",
       "</tr>\n",
       "<tr>\n",
       "  <th>Time:</th>                   <td>07:11:31</td>       <th>  Log-Likelihood:    </th> <td>  31.587</td>\n",
       "</tr>\n",
       "<tr>\n",
       "  <th>No. Observations:</th>        <td>    74</td>        <th>  AIC:               </th> <td>  -55.17</td>\n",
       "</tr>\n",
       "<tr>\n",
       "  <th>Df Residuals:</th>            <td>    70</td>        <th>  BIC:               </th> <td>  -45.96</td>\n",
       "</tr>\n",
       "<tr>\n",
       "  <th>Df Model:</th>                <td>     3</td>        <th>                     </th>     <td> </td>   \n",
       "</tr>\n",
       "<tr>\n",
       "  <th>Covariance Type:</th>        <td>nonrobust</td>      <th>                     </th>     <td> </td>   \n",
       "</tr>\n",
       "</table>\n",
       "<table class=\"simpletable\">\n",
       "<tr>\n",
       "                <td></td>                   <th>coef</th>     <th>std err</th>      <th>t</th>      <th>P>|t|</th> <th>[95.0% Conf. Int.]</th> \n",
       "</tr>\n",
       "<tr>\n",
       "  <th>Const</th>                         <td>    0.0382</td> <td>    0.082</td> <td>    0.468</td> <td> 0.641</td> <td>   -0.125     0.201</td>\n",
       "</tr>\n",
       "<tr>\n",
       "  <th>AGG|indig_%_of_pop</th>            <td>    0.2502</td> <td>    0.030</td> <td>    8.229</td> <td> 0.000</td> <td>    0.190     0.311</td>\n",
       "</tr>\n",
       "<tr>\n",
       "  <th>AGG|Average_Hhold_Income_000s</th> <td>   -0.1346</td> <td>    0.063</td> <td>   -2.128</td> <td> 0.037</td> <td>   -0.261    -0.008</td>\n",
       "</tr>\n",
       "<tr>\n",
       "  <th>AGG|Tourists_per_cap</th>          <td>    7.8942</td> <td>    2.054</td> <td>    3.843</td> <td> 0.000</td> <td>    3.797    11.991</td>\n",
       "</tr>\n",
       "</table>\n",
       "<table class=\"simpletable\">\n",
       "<tr>\n",
       "  <th>Omnibus:</th>       <td> 6.180</td> <th>  Durbin-Watson:     </th> <td>   2.003</td>\n",
       "</tr>\n",
       "<tr>\n",
       "  <th>Prob(Omnibus):</th> <td> 0.046</td> <th>  Jarque-Bera (JB):  </th> <td>   6.234</td>\n",
       "</tr>\n",
       "<tr>\n",
       "  <th>Skew:</th>          <td> 0.435</td> <th>  Prob(JB):          </th> <td>  0.0443</td>\n",
       "</tr>\n",
       "<tr>\n",
       "  <th>Kurtosis:</th>      <td> 4.124</td> <th>  Cond. No.          </th> <td>    260.</td>\n",
       "</tr>\n",
       "</table>"
      ],
      "text/plain": [
       "<class 'statsmodels.iolib.summary.Summary'>\n",
       "\"\"\"\n",
       "                             OLS Regression Results                             \n",
       "================================================================================\n",
       "Dep. Variable:     Searches_per_hundred   R-squared:                       0.888\n",
       "Model:                              OLS   Adj. R-squared:                  0.883\n",
       "Method:                   Least Squares   F-statistic:                     185.3\n",
       "Date:                  Wed, 12 Oct 2016   Prob (F-statistic):           3.19e-33\n",
       "Time:                          07:11:31   Log-Likelihood:                 31.587\n",
       "No. Observations:                    74   AIC:                            -55.17\n",
       "Df Residuals:                        70   BIC:                            -45.96\n",
       "Df Model:                             3                                         \n",
       "Covariance Type:              nonrobust                                         \n",
       "=================================================================================================\n",
       "                                    coef    std err          t      P>|t|      [95.0% Conf. Int.]\n",
       "-------------------------------------------------------------------------------------------------\n",
       "Const                             0.0382      0.082      0.468      0.641        -0.125     0.201\n",
       "AGG|indig_%_of_pop                0.2502      0.030      8.229      0.000         0.190     0.311\n",
       "AGG|Average_Hhold_Income_000s    -0.1346      0.063     -2.128      0.037        -0.261    -0.008\n",
       "AGG|Tourists_per_cap              7.8942      2.054      3.843      0.000         3.797    11.991\n",
       "==============================================================================\n",
       "Omnibus:                        6.180   Durbin-Watson:                   2.003\n",
       "Prob(Omnibus):                  0.046   Jarque-Bera (JB):                6.234\n",
       "Skew:                           0.435   Prob(JB):                       0.0443\n",
       "Kurtosis:                       4.124   Cond. No.                         260.\n",
       "==============================================================================\n",
       "\n",
       "Warnings:\n",
       "[1] Standard Errors assume that the covariance matrix of the errors is correctly specified.\n",
       "\"\"\""
      ]
     },
     "execution_count": 309,
     "metadata": {},
     "output_type": "execute_result"
    }
   ],
   "source": [
    "inner_2015['Const'] = 1\n",
    "\n",
    "#inner_2015 = inner_2015[inner_2015['Searches_per_hundred'] < 1]\n",
    "\n",
    "model = sm.OLS(inner_2015['Searches_per_hundred'],\n",
    "               inner_2015[\n",
    "        [\n",
    "            'Const','AGG|indig_%_of_pop',\n",
    "         'AGG|Average_Hhold_Income_000s',\n",
    "         'AGG|Tourists_per_cap',\n",
    "         #'AGG|CALD_%'\n",
    "        ]\n",
    "    ]\n",
    "              )\n",
    "\n",
    "results = model.fit()\n",
    "\n",
    "results.summary()"
   ]
  },
  {
   "cell_type": "code",
   "execution_count": 290,
   "metadata": {
    "collapsed": false
   },
   "outputs": [
    {
     "name": "stderr",
     "output_type": "stream",
     "text": [
      "/Users/jmacdonald/anaconda/lib/python3.5/site-packages/ipykernel/__main__.py:1: SettingWithCopyWarning: \n",
      "A value is trying to be set on a copy of a slice from a DataFrame.\n",
      "Try using .loc[row_indexer,col_indexer] = value instead\n",
      "\n",
      "See the caveats in the documentation: http://pandas.pydata.org/pandas-docs/stable/indexing.html#indexing-view-versus-copy\n",
      "  if __name__ == '__main__':\n"
     ]
    },
    {
     "data": {
      "text/html": [
       "<table class=\"simpletable\">\n",
       "<caption>OLS Regression Results</caption>\n",
       "<tr>\n",
       "  <th>Dep. Variable:</th>    <td>Searches_per_hundred</td> <th>  R-squared:         </th> <td>   0.888</td>\n",
       "</tr>\n",
       "<tr>\n",
       "  <th>Model:</th>                     <td>OLS</td>         <th>  Adj. R-squared:    </th> <td>   0.883</td>\n",
       "</tr>\n",
       "<tr>\n",
       "  <th>Method:</th>               <td>Least Squares</td>    <th>  F-statistic:       </th> <td>   185.3</td>\n",
       "</tr>\n",
       "<tr>\n",
       "  <th>Date:</th>               <td>Wed, 12 Oct 2016</td>   <th>  Prob (F-statistic):</th> <td>3.19e-33</td>\n",
       "</tr>\n",
       "<tr>\n",
       "  <th>Time:</th>                   <td>07:00:01</td>       <th>  Log-Likelihood:    </th> <td>  31.587</td>\n",
       "</tr>\n",
       "<tr>\n",
       "  <th>No. Observations:</th>        <td>    74</td>        <th>  AIC:               </th> <td>  -55.17</td>\n",
       "</tr>\n",
       "<tr>\n",
       "  <th>Df Residuals:</th>            <td>    70</td>        <th>  BIC:               </th> <td>  -45.96</td>\n",
       "</tr>\n",
       "<tr>\n",
       "  <th>Df Model:</th>                <td>     3</td>        <th>                     </th>     <td> </td>   \n",
       "</tr>\n",
       "<tr>\n",
       "  <th>Covariance Type:</th>        <td>nonrobust</td>      <th>                     </th>     <td> </td>   \n",
       "</tr>\n",
       "</table>\n",
       "<table class=\"simpletable\">\n",
       "<tr>\n",
       "                <td></td>                   <th>coef</th>     <th>std err</th>      <th>t</th>      <th>P>|t|</th> <th>[95.0% Conf. Int.]</th> \n",
       "</tr>\n",
       "<tr>\n",
       "  <th>Const</th>                         <td>    0.0382</td> <td>    0.082</td> <td>    0.468</td> <td> 0.641</td> <td>   -0.125     0.201</td>\n",
       "</tr>\n",
       "<tr>\n",
       "  <th>AGG|indig_%_of_pop</th>            <td>    0.2502</td> <td>    0.030</td> <td>    8.229</td> <td> 0.000</td> <td>    0.190     0.311</td>\n",
       "</tr>\n",
       "<tr>\n",
       "  <th>AGG|Average_Hhold_Income_000s</th> <td>   -0.1346</td> <td>    0.063</td> <td>   -2.128</td> <td> 0.037</td> <td>   -0.261    -0.008</td>\n",
       "</tr>\n",
       "<tr>\n",
       "  <th>AGG|Tourists_per_cap</th>          <td>    7.8942</td> <td>    2.054</td> <td>    3.843</td> <td> 0.000</td> <td>    3.797    11.991</td>\n",
       "</tr>\n",
       "</table>\n",
       "<table class=\"simpletable\">\n",
       "<tr>\n",
       "  <th>Omnibus:</th>       <td> 6.180</td> <th>  Durbin-Watson:     </th> <td>   2.003</td>\n",
       "</tr>\n",
       "<tr>\n",
       "  <th>Prob(Omnibus):</th> <td> 0.046</td> <th>  Jarque-Bera (JB):  </th> <td>   6.234</td>\n",
       "</tr>\n",
       "<tr>\n",
       "  <th>Skew:</th>          <td> 0.435</td> <th>  Prob(JB):          </th> <td>  0.0443</td>\n",
       "</tr>\n",
       "<tr>\n",
       "  <th>Kurtosis:</th>      <td> 4.124</td> <th>  Cond. No.          </th> <td>    260.</td>\n",
       "</tr>\n",
       "</table>"
      ],
      "text/plain": [
       "<class 'statsmodels.iolib.summary.Summary'>\n",
       "\"\"\"\n",
       "                             OLS Regression Results                             \n",
       "================================================================================\n",
       "Dep. Variable:     Searches_per_hundred   R-squared:                       0.888\n",
       "Model:                              OLS   Adj. R-squared:                  0.883\n",
       "Method:                   Least Squares   F-statistic:                     185.3\n",
       "Date:                  Wed, 12 Oct 2016   Prob (F-statistic):           3.19e-33\n",
       "Time:                          07:00:01   Log-Likelihood:                 31.587\n",
       "No. Observations:                    74   AIC:                            -55.17\n",
       "Df Residuals:                        70   BIC:                            -45.96\n",
       "Df Model:                             3                                         \n",
       "Covariance Type:              nonrobust                                         \n",
       "=================================================================================================\n",
       "                                    coef    std err          t      P>|t|      [95.0% Conf. Int.]\n",
       "-------------------------------------------------------------------------------------------------\n",
       "Const                             0.0382      0.082      0.468      0.641        -0.125     0.201\n",
       "AGG|indig_%_of_pop                0.2502      0.030      8.229      0.000         0.190     0.311\n",
       "AGG|Average_Hhold_Income_000s    -0.1346      0.063     -2.128      0.037        -0.261    -0.008\n",
       "AGG|Tourists_per_cap              7.8942      2.054      3.843      0.000         3.797    11.991\n",
       "==============================================================================\n",
       "Omnibus:                        6.180   Durbin-Watson:                   2.003\n",
       "Prob(Omnibus):                  0.046   Jarque-Bera (JB):                6.234\n",
       "Skew:                           0.435   Prob(JB):                       0.0443\n",
       "Kurtosis:                       4.124   Cond. No.                         260.\n",
       "==============================================================================\n",
       "\n",
       "Warnings:\n",
       "[1] Standard Errors assume that the covariance matrix of the errors is correctly specified.\n",
       "\"\"\""
      ]
     },
     "execution_count": 290,
     "metadata": {},
     "output_type": "execute_result"
    }
   ],
   "source": [
    "inner_2015['Const'] = 1\n",
    "\n",
    "#inner_2015 = inner_2015[inner_2015['Searches_per_hundred'] < 1]\n",
    "\n",
    "model = sm.OLS(inner_2015['Searches_per_hundred'],\n",
    "               inner_2015[\n",
    "        [\n",
    "            'Const','AGG|indig_%_of_pop',\n",
    "         'AGG|Average_Hhold_Income_000s',\n",
    "         'AGG|Tourists_per_cap',\n",
    "         #'AGG|CALD_%'\n",
    "        ]\n",
    "    ]\n",
    "              )\n",
    "\n",
    "results = model.fit()\n",
    "\n",
    "results.summary()"
   ]
  },
  {
   "cell_type": "code",
   "execution_count": 289,
   "metadata": {
    "collapsed": false
   },
   "outputs": [
    {
     "name": "stderr",
     "output_type": "stream",
     "text": [
      "/Users/jmacdonald/anaconda/lib/python3.5/site-packages/ipykernel/__main__.py:1: SettingWithCopyWarning: \n",
      "A value is trying to be set on a copy of a slice from a DataFrame.\n",
      "Try using .loc[row_indexer,col_indexer] = value instead\n",
      "\n",
      "See the caveats in the documentation: http://pandas.pydata.org/pandas-docs/stable/indexing.html#indexing-view-versus-copy\n",
      "  if __name__ == '__main__':\n"
     ]
    },
    {
     "data": {
      "text/html": [
       "<table class=\"simpletable\">\n",
       "<caption>OLS Regression Results</caption>\n",
       "<tr>\n",
       "  <th>Dep. Variable:</th>    <td>Searches_per_hundred</td> <th>  R-squared:         </th> <td>   0.289</td>\n",
       "</tr>\n",
       "<tr>\n",
       "  <th>Model:</th>                     <td>OLS</td>         <th>  Adj. R-squared:    </th> <td>   0.255</td>\n",
       "</tr>\n",
       "<tr>\n",
       "  <th>Method:</th>               <td>Least Squares</td>    <th>  F-statistic:       </th> <td>   8.659</td>\n",
       "</tr>\n",
       "<tr>\n",
       "  <th>Date:</th>               <td>Wed, 12 Oct 2016</td>   <th>  Prob (F-statistic):</th> <td>6.62e-05</td>\n",
       "</tr>\n",
       "<tr>\n",
       "  <th>Time:</th>                   <td>06:59:43</td>       <th>  Log-Likelihood:    </th> <td>  36.289</td>\n",
       "</tr>\n",
       "<tr>\n",
       "  <th>No. Observations:</th>        <td>    68</td>        <th>  AIC:               </th> <td>  -64.58</td>\n",
       "</tr>\n",
       "<tr>\n",
       "  <th>Df Residuals:</th>            <td>    64</td>        <th>  BIC:               </th> <td>  -55.70</td>\n",
       "</tr>\n",
       "<tr>\n",
       "  <th>Df Model:</th>                <td>     3</td>        <th>                     </th>     <td> </td>   \n",
       "</tr>\n",
       "<tr>\n",
       "  <th>Covariance Type:</th>        <td>nonrobust</td>      <th>                     </th>     <td> </td>   \n",
       "</tr>\n",
       "</table>\n",
       "<table class=\"simpletable\">\n",
       "<tr>\n",
       "                <td></td>                   <th>coef</th>     <th>std err</th>      <th>t</th>      <th>P>|t|</th> <th>[95.0% Conf. Int.]</th> \n",
       "</tr>\n",
       "<tr>\n",
       "  <th>Const</th>                         <td>    0.0679</td> <td>    0.075</td> <td>    0.900</td> <td> 0.371</td> <td>   -0.083     0.219</td>\n",
       "</tr>\n",
       "<tr>\n",
       "  <th>AGG|indig_%_of_pop</th>            <td>    0.1082</td> <td>    0.046</td> <td>    2.348</td> <td> 0.022</td> <td>    0.016     0.200</td>\n",
       "</tr>\n",
       "<tr>\n",
       "  <th>AGG|Average_Hhold_Income_000s</th> <td>   -0.0471</td> <td>    0.061</td> <td>   -0.769</td> <td> 0.445</td> <td>   -0.169     0.075</td>\n",
       "</tr>\n",
       "<tr>\n",
       "  <th>AGG|CALD_%</th>                    <td>    0.0435</td> <td>    0.016</td> <td>    2.659</td> <td> 0.010</td> <td>    0.011     0.076</td>\n",
       "</tr>\n",
       "</table>\n",
       "<table class=\"simpletable\">\n",
       "<tr>\n",
       "  <th>Omnibus:</th>       <td>24.721</td> <th>  Durbin-Watson:     </th> <td>   2.014</td>\n",
       "</tr>\n",
       "<tr>\n",
       "  <th>Prob(Omnibus):</th> <td> 0.000</td> <th>  Jarque-Bera (JB):  </th> <td>  45.898</td>\n",
       "</tr>\n",
       "<tr>\n",
       "  <th>Skew:</th>          <td> 1.254</td> <th>  Prob(JB):          </th> <td>1.08e-10</td>\n",
       "</tr>\n",
       "<tr>\n",
       "  <th>Kurtosis:</th>      <td> 6.147</td> <th>  Cond. No.          </th> <td>    11.9</td>\n",
       "</tr>\n",
       "</table>"
      ],
      "text/plain": [
       "<class 'statsmodels.iolib.summary.Summary'>\n",
       "\"\"\"\n",
       "                             OLS Regression Results                             \n",
       "================================================================================\n",
       "Dep. Variable:     Searches_per_hundred   R-squared:                       0.289\n",
       "Model:                              OLS   Adj. R-squared:                  0.255\n",
       "Method:                   Least Squares   F-statistic:                     8.659\n",
       "Date:                  Wed, 12 Oct 2016   Prob (F-statistic):           6.62e-05\n",
       "Time:                          06:59:43   Log-Likelihood:                 36.289\n",
       "No. Observations:                    68   AIC:                            -64.58\n",
       "Df Residuals:                        64   BIC:                            -55.70\n",
       "Df Model:                             3                                         \n",
       "Covariance Type:              nonrobust                                         \n",
       "=================================================================================================\n",
       "                                    coef    std err          t      P>|t|      [95.0% Conf. Int.]\n",
       "-------------------------------------------------------------------------------------------------\n",
       "Const                             0.0679      0.075      0.900      0.371        -0.083     0.219\n",
       "AGG|indig_%_of_pop                0.1082      0.046      2.348      0.022         0.016     0.200\n",
       "AGG|Average_Hhold_Income_000s    -0.0471      0.061     -0.769      0.445        -0.169     0.075\n",
       "AGG|CALD_%                        0.0435      0.016      2.659      0.010         0.011     0.076\n",
       "==============================================================================\n",
       "Omnibus:                       24.721   Durbin-Watson:                   2.014\n",
       "Prob(Omnibus):                  0.000   Jarque-Bera (JB):               45.898\n",
       "Skew:                           1.254   Prob(JB):                     1.08e-10\n",
       "Kurtosis:                       6.147   Cond. No.                         11.9\n",
       "==============================================================================\n",
       "\n",
       "Warnings:\n",
       "[1] Standard Errors assume that the covariance matrix of the errors is correctly specified.\n",
       "\"\"\""
      ]
     },
     "execution_count": 289,
     "metadata": {},
     "output_type": "execute_result"
    }
   ],
   "source": [
    "inner_2015['Const'] = 1\n",
    "\n",
    "inner_2015_2 = inner_2015[inner_2015['Searches_per_hundred'] < 1]\n",
    "\n",
    "model = sm.OLS(inner_2015_2['Searches_per_hundred'],\n",
    "               inner_2015_2[\n",
    "        ['Const','AGG|indig_%_of_pop',\n",
    "         'AGG|Average_Hhold_Income_000s',\n",
    "         #'AGG|Tourists_per_1000_residents',\n",
    "         'AGG|CALD_%']\n",
    "    ]\n",
    "              )\n",
    "\n",
    "results = model.fit()\n",
    "\n",
    "results.summary()"
   ]
  },
  {
   "cell_type": "code",
   "execution_count": 288,
   "metadata": {
    "collapsed": false
   },
   "outputs": [
    {
     "data": {
      "text/html": [
       "<div>\n",
       "<table border=\"1\" class=\"dataframe\">\n",
       "  <thead>\n",
       "    <tr style=\"text-align: right;\">\n",
       "      <th></th>\n",
       "      <th>Searches_per_hundred</th>\n",
       "      <th>Model_prediction</th>\n",
       "    </tr>\n",
       "  </thead>\n",
       "  <tbody>\n",
       "    <tr>\n",
       "      <th>Searches_per_hundred</th>\n",
       "      <td>1.00000</td>\n",
       "      <td>0.44719</td>\n",
       "    </tr>\n",
       "    <tr>\n",
       "      <th>Model_prediction</th>\n",
       "      <td>0.44719</td>\n",
       "      <td>1.00000</td>\n",
       "    </tr>\n",
       "  </tbody>\n",
       "</table>\n",
       "</div>"
      ],
      "text/plain": [
       "                      Searches_per_hundred  Model_prediction\n",
       "Searches_per_hundred               1.00000           0.44719\n",
       "Model_prediction                   0.44719           1.00000"
      ]
     },
     "execution_count": 288,
     "metadata": {},
     "output_type": "execute_result"
    }
   ],
   "source": [
    "inner_2015[\n",
    "    ['Searches_per_hundred','Model_prediction']\n",
    "].corr()"
   ]
  },
  {
   "cell_type": "code",
   "execution_count": 291,
   "metadata": {
    "collapsed": false
   },
   "outputs": [
    {
     "name": "stderr",
     "output_type": "stream",
     "text": [
      "/Users/jmacdonald/anaconda/lib/python3.5/site-packages/ipykernel/__main__.py:1: SettingWithCopyWarning: \n",
      "A value is trying to be set on a copy of a slice from a DataFrame.\n",
      "Try using .loc[row_indexer,col_indexer] = value instead\n",
      "\n",
      "See the caveats in the documentation: http://pandas.pydata.org/pandas-docs/stable/indexing.html#indexing-view-versus-copy\n",
      "  if __name__ == '__main__':\n",
      "/Users/jmacdonald/anaconda/lib/python3.5/site-packages/ipykernel/__main__.py:2: SettingWithCopyWarning: \n",
      "A value is trying to be set on a copy of a slice from a DataFrame.\n",
      "Try using .loc[row_indexer,col_indexer] = value instead\n",
      "\n",
      "See the caveats in the documentation: http://pandas.pydata.org/pandas-docs/stable/indexing.html#indexing-view-versus-copy\n",
      "  from ipykernel import kernelapp as app\n",
      "/Users/jmacdonald/anaconda/lib/python3.5/site-packages/ipykernel/__main__.py:3: SettingWithCopyWarning: \n",
      "A value is trying to be set on a copy of a slice from a DataFrame.\n",
      "Try using .loc[row_indexer,col_indexer] = value instead\n",
      "\n",
      "See the caveats in the documentation: http://pandas.pydata.org/pandas-docs/stable/indexing.html#indexing-view-versus-copy\n",
      "  app.launch_new_instance()\n",
      "/Users/jmacdonald/anaconda/lib/python3.5/site-packages/ipykernel/__main__.py:4: SettingWithCopyWarning: \n",
      "A value is trying to be set on a copy of a slice from a DataFrame.\n",
      "Try using .loc[row_indexer,col_indexer] = value instead\n",
      "\n",
      "See the caveats in the documentation: http://pandas.pydata.org/pandas-docs/stable/indexing.html#indexing-view-versus-copy\n",
      "/Users/jmacdonald/anaconda/lib/python3.5/site-packages/matplotlib/__init__.py:892: UserWarning: axes.color_cycle is deprecated and replaced with axes.prop_cycle; please use the latter.\n",
      "  warnings.warn(self.msg_depr % (key, alt_key))\n"
     ]
    },
    {
     "data": {
      "text/plain": [
       "<seaborn.axisgrid.FacetGrid at 0x1200143c8>"
      ]
     },
     "execution_count": 291,
     "metadata": {},
     "output_type": "execute_result"
    },
    {
     "data": {
      "image/png": "[encoded data removed]",
      "text/plain": [
       "<matplotlib.figure.Figure at 0x120262438>"
      ]
     },
     "metadata": {},
     "output_type": "display_data"
    }
   ],
   "source": [
    "inner_2015['Model_prediction'] = results.fittedvalues\n",
    "inner_2015['error'] = inner_2015['Searches_per_hundred'] - inner_2015['Model_prediction']\n",
    "inner_2015['error_sq'] = inner_2015['error'] * inner_2015['error']\n",
    "inner_2015['error_weighted'] = inner_2015['error'] / inner_2015['Searches_per_hundred']\n",
    "\n",
    "sns.lmplot(data=inner_2015.sort_values(by='Searches_per_hundred'), \n",
    "           y='Searches_per_hundred', x='Model_prediction', size=5.5, aspect=1.7)"
   ]
  },
  {
   "cell_type": "code",
   "execution_count": 281,
   "metadata": {
    "collapsed": false
   },
   "outputs": [
    {
     "name": "stderr",
     "output_type": "stream",
     "text": [
      "/Users/jmacdonald/anaconda/lib/python3.5/site-packages/matplotlib/__init__.py:892: UserWarning: axes.color_cycle is deprecated and replaced with axes.prop_cycle; please use the latter.\n",
      "  warnings.warn(self.msg_depr % (key, alt_key))\n"
     ]
    },
    {
     "data": {
      "text/plain": [
       "<seaborn.axisgrid.FacetGrid at 0x1188134e0>"
      ]
     },
     "execution_count": 281,
     "metadata": {},
     "output_type": "execute_result"
    },
    {
     "data": {
      "image/png": "[encoded data removed]",
      "text/plain": [
       "<matplotlib.figure.Figure at 0x1188135f8>"
      ]
     },
     "metadata": {},
     "output_type": "display_data"
    }
   ],
   "source": [
    "sns.lmplot(data=inner_2015, y='Searches_per_hundred', x='AGG|indig_%_of_pop', size=5.5, aspect=1.7)"
   ]
  },
  {
   "cell_type": "code",
   "execution_count": 300,
   "metadata": {
    "collapsed": false
   },
   "outputs": [
    {
     "name": "stderr",
     "output_type": "stream",
     "text": [
      "/Users/jmacdonald/anaconda/lib/python3.5/site-packages/matplotlib/__init__.py:892: UserWarning: axes.color_cycle is deprecated and replaced with axes.prop_cycle; please use the latter.\n",
      "  warnings.warn(self.msg_depr % (key, alt_key))\n"
     ]
    },
    {
     "data": {
      "text/plain": [
       "<seaborn.axisgrid.FacetGrid at 0x1249a2a20>"
      ]
     },
     "execution_count": 300,
     "metadata": {},
     "output_type": "execute_result"
    },
    {
     "data": {
      "image/png": "[encoded data removed]",
      "text/plain": [
       "<matplotlib.figure.Figure at 0x1249a2a58>"
      ]
     },
     "metadata": {},
     "output_type": "display_data"
    }
   ],
   "source": [
    "sns.lmplot(data=inner_2015, y='Searches_per_hundred', x='AGG|Tourists_per_cap', size=5.5, aspect=1.7)"
   ]
  },
  {
   "cell_type": "code",
   "execution_count": 283,
   "metadata": {
    "collapsed": false
   },
   "outputs": [
    {
     "name": "stderr",
     "output_type": "stream",
     "text": [
      "/Users/jmacdonald/anaconda/lib/python3.5/site-packages/matplotlib/__init__.py:892: UserWarning: axes.color_cycle is deprecated and replaced with axes.prop_cycle; please use the latter.\n",
      "  warnings.warn(self.msg_depr % (key, alt_key))\n"
     ]
    },
    {
     "data": {
      "text/plain": [
       "<seaborn.axisgrid.FacetGrid at 0x11f15bf28>"
      ]
     },
     "execution_count": 283,
     "metadata": {},
     "output_type": "execute_result"
    },
    {
     "data": {
      "image/png": "[encoded data removed]",
      "text/plain": [
       "<matplotlib.figure.Figure at 0x11f15b0b8>"
      ]
     },
     "metadata": {},
     "output_type": "display_data"
    }
   ],
   "source": [
    "sns.lmplot(data=inner_2015, y='Searches_per_hundred', x='AGG|Average_Hhold_Income_000s', size=5.5, aspect=1.7)"
   ]
  },
  {
   "cell_type": "code",
   "execution_count": 120,
   "metadata": {
    "collapsed": false
   },
   "outputs": [
    {
     "data": {
      "text/html": [
       "<table class=\"simpletable\">\n",
       "<caption>OLS Regression Results</caption>\n",
       "<tr>\n",
       "  <th>Dep. Variable:</th>    <td>Searches_per_thousand</td> <th>  R-squared:         </th> <td>   0.888</td>\n",
       "</tr>\n",
       "<tr>\n",
       "  <th>Model:</th>                     <td>OLS</td>          <th>  Adj. R-squared:    </th> <td>   0.883</td>\n",
       "</tr>\n",
       "<tr>\n",
       "  <th>Method:</th>               <td>Least Squares</td>     <th>  F-statistic:       </th> <td>   185.3</td>\n",
       "</tr>\n",
       "<tr>\n",
       "  <th>Date:</th>               <td>Tue, 11 Oct 2016</td>    <th>  Prob (F-statistic):</th> <td>3.19e-33</td>\n",
       "</tr>\n",
       "<tr>\n",
       "  <th>Time:</th>                   <td>16:06:29</td>        <th>  Log-Likelihood:    </th> <td> -138.80</td>\n",
       "</tr>\n",
       "<tr>\n",
       "  <th>No. Observations:</th>        <td>    74</td>         <th>  AIC:               </th> <td>   285.6</td>\n",
       "</tr>\n",
       "<tr>\n",
       "  <th>Df Residuals:</th>            <td>    70</td>         <th>  BIC:               </th> <td>   294.8</td>\n",
       "</tr>\n",
       "<tr>\n",
       "  <th>Df Model:</th>                <td>     3</td>         <th>                     </th>     <td> </td>   \n",
       "</tr>\n",
       "<tr>\n",
       "  <th>Covariance Type:</th>        <td>nonrobust</td>       <th>                     </th>     <td> </td>   \n",
       "</tr>\n",
       "</table>\n",
       "<table class=\"simpletable\">\n",
       "<tr>\n",
       "            <td></td>              <th>coef</th>     <th>std err</th>      <th>t</th>      <th>P>|t|</th> <th>[95.0% Conf. Int.]</th> \n",
       "</tr>\n",
       "<tr>\n",
       "  <th>Const</th>                <td>    0.3823</td> <td>    0.817</td> <td>    0.468</td> <td> 0.641</td> <td>   -1.247     2.012</td>\n",
       "</tr>\n",
       "<tr>\n",
       "  <th>SUM|indig_status_p</th>   <td>    2.5022</td> <td>    0.304</td> <td>    8.229</td> <td> 0.000</td> <td>    1.896     3.109</td>\n",
       "</tr>\n",
       "<tr>\n",
       "  <th>Ave_Inc_Est</th>          <td>   -0.0013</td> <td>    0.001</td> <td>   -2.128</td> <td> 0.037</td> <td>   -0.003 -8.47e-05</td>\n",
       "</tr>\n",
       "<tr>\n",
       "  <th>proportional_tourism</th> <td>   78.9421</td> <td>   20.543</td> <td>    3.843</td> <td> 0.000</td> <td>   37.970   119.914</td>\n",
       "</tr>\n",
       "</table>\n",
       "<table class=\"simpletable\">\n",
       "<tr>\n",
       "  <th>Omnibus:</th>       <td> 6.180</td> <th>  Durbin-Watson:     </th> <td>   2.003</td>\n",
       "</tr>\n",
       "<tr>\n",
       "  <th>Prob(Omnibus):</th> <td> 0.046</td> <th>  Jarque-Bera (JB):  </th> <td>   6.234</td>\n",
       "</tr>\n",
       "<tr>\n",
       "  <th>Skew:</th>          <td> 0.435</td> <th>  Prob(JB):          </th> <td>  0.0443</td>\n",
       "</tr>\n",
       "<tr>\n",
       "  <th>Kurtosis:</th>      <td> 4.124</td> <th>  Cond. No.          </th> <td>1.55e+05</td>\n",
       "</tr>\n",
       "</table>"
      ],
      "text/plain": [
       "<class 'statsmodels.iolib.summary.Summary'>\n",
       "\"\"\"\n",
       "                              OLS Regression Results                             \n",
       "=================================================================================\n",
       "Dep. Variable:     Searches_per_thousand   R-squared:                       0.888\n",
       "Model:                               OLS   Adj. R-squared:                  0.883\n",
       "Method:                    Least Squares   F-statistic:                     185.3\n",
       "Date:                   Tue, 11 Oct 2016   Prob (F-statistic):           3.19e-33\n",
       "Time:                           16:06:29   Log-Likelihood:                -138.80\n",
       "No. Observations:                     74   AIC:                             285.6\n",
       "Df Residuals:                         70   BIC:                             294.8\n",
       "Df Model:                              3                                         \n",
       "Covariance Type:               nonrobust                                         \n",
       "========================================================================================\n",
       "                           coef    std err          t      P>|t|      [95.0% Conf. Int.]\n",
       "----------------------------------------------------------------------------------------\n",
       "Const                    0.3823      0.817      0.468      0.641        -1.247     2.012\n",
       "SUM|indig_status_p       2.5022      0.304      8.229      0.000         1.896     3.109\n",
       "Ave_Inc_Est             -0.0013      0.001     -2.128      0.037        -0.003 -8.47e-05\n",
       "proportional_tourism    78.9421     20.543      3.843      0.000        37.970   119.914\n",
       "==============================================================================\n",
       "Omnibus:                        6.180   Durbin-Watson:                   2.003\n",
       "Prob(Omnibus):                  0.046   Jarque-Bera (JB):                6.234\n",
       "Skew:                           0.435   Prob(JB):                       0.0443\n",
       "Kurtosis:                       4.124   Cond. No.                     1.55e+05\n",
       "==============================================================================\n",
       "\n",
       "Warnings:\n",
       "[1] Standard Errors assume that the covariance matrix of the errors is correctly specified.\n",
       "[2] The condition number is large, 1.55e+05. This might indicate that there are\n",
       "strong multicollinearity or other numerical problems.\n",
       "\"\"\""
      ]
     },
     "execution_count": 120,
     "metadata": {},
     "output_type": "execute_result"
    }
   ],
   "source": [
    "results.summary()"
   ]
  },
  {
   "cell_type": "code",
   "execution_count": 95,
   "metadata": {
    "collapsed": false
   },
   "outputs": [
    {
     "data": {
      "text/plain": [
       "<matplotlib.axes._subplots.AxesSubplot at 0x11ce98080>"
      ]
     },
     "execution_count": 95,
     "metadata": {},
     "output_type": "execute_result"
    },
    {
     "data": {
      "image/png": "[encoded data removed]",
      "text/plain": [
       "<matplotlib.figure.Figure at 0x11ce9cb70>"
      ]
     },
     "metadata": {},
     "output_type": "display_data"
    }
   ],
   "source": [
    "inner_2015[['fits','Searches_per_hundred']].plot()"
   ]
  },
  {
   "cell_type": "code",
   "execution_count": 322,
   "metadata": {
    "collapsed": false
   },
   "outputs": [
    {
     "name": "stderr",
     "output_type": "stream",
     "text": [
      "/Users/jmacdonald/anaconda/lib/python3.5/site-packages/matplotlib/__init__.py:892: UserWarning: axes.color_cycle is deprecated and replaced with axes.prop_cycle; please use the latter.\n",
      "  warnings.warn(self.msg_depr % (key, alt_key))\n"
     ]
    },
    {
     "data": {
      "text/plain": [
       "<seaborn.axisgrid.FacetGrid at 0x125878c18>"
      ]
     },
     "execution_count": 322,
     "metadata": {},
     "output_type": "execute_result"
    },
    {
     "data": {
      "image/png": "[encoded data removed]",
      "text/plain": [
       "<matplotlib.figure.Figure at 0x12442f4e0>"
      ]
     },
     "metadata": {},
     "output_type": "display_data"
    }
   ],
   "source": [
    "sns.lmplot(data=inner_2015,\n",
    "           x='Searches_per_hundred',\n",
    "           y='False Positive',\n",
    "           size=5.5,\n",
    "           aspect=1.7\n",
    "          )"
   ]
  },
  {
   "cell_type": "code",
   "execution_count": 319,
   "metadata": {
    "collapsed": false
   },
   "outputs": [
    {
     "data": {
      "text/html": [
       "<div>\n",
       "<table border=\"1\" class=\"dataframe\">\n",
       "  <thead>\n",
       "    <tr style=\"text-align: right;\">\n",
       "      <th></th>\n",
       "      <th>False Positive</th>\n",
       "      <th>Searches_per_hundred</th>\n",
       "    </tr>\n",
       "    <tr>\n",
       "      <th>LAC</th>\n",
       "      <th></th>\n",
       "      <th></th>\n",
       "    </tr>\n",
       "  </thead>\n",
       "  <tbody>\n",
       "    <tr>\n",
       "      <th>EASTERN SUBURBS</th>\n",
       "      <td>0.675159</td>\n",
       "      <td>1.071416</td>\n",
       "    </tr>\n",
       "    <tr>\n",
       "      <th>FLEMINGTON</th>\n",
       "      <td>0.702627</td>\n",
       "      <td>0.965930</td>\n",
       "    </tr>\n",
       "    <tr>\n",
       "      <th>KINGS CROSS</th>\n",
       "      <td>0.589527</td>\n",
       "      <td>2.029761</td>\n",
       "    </tr>\n",
       "    <tr>\n",
       "      <th>MARRICKVILLE</th>\n",
       "      <td>0.623053</td>\n",
       "      <td>0.590834</td>\n",
       "    </tr>\n",
       "    <tr>\n",
       "      <th>NEWTOWN</th>\n",
       "      <td>0.583979</td>\n",
       "      <td>1.052717</td>\n",
       "    </tr>\n",
       "    <tr>\n",
       "      <th>REDFERN</th>\n",
       "      <td>0.791745</td>\n",
       "      <td>1.054735</td>\n",
       "    </tr>\n",
       "    <tr>\n",
       "      <th>SURRY HILLS</th>\n",
       "      <td>0.587473</td>\n",
       "      <td>1.869876</td>\n",
       "    </tr>\n",
       "    <tr>\n",
       "      <th>CITY CENTRAL</th>\n",
       "      <td>0.660550</td>\n",
       "      <td>2.718317</td>\n",
       "    </tr>\n",
       "    <tr>\n",
       "      <th>TWEED/BYRON</th>\n",
       "      <td>0.639896</td>\n",
       "      <td>0.654132</td>\n",
       "    </tr>\n",
       "  </tbody>\n",
       "</table>\n",
       "</div>"
      ],
      "text/plain": [
       "                 False Positive  Searches_per_hundred\n",
       "LAC                                                  \n",
       "EASTERN SUBURBS        0.675159              1.071416\n",
       "FLEMINGTON             0.702627              0.965930\n",
       "KINGS CROSS            0.589527              2.029761\n",
       "MARRICKVILLE           0.623053              0.590834\n",
       "NEWTOWN                0.583979              1.052717\n",
       "REDFERN                0.791745              1.054735\n",
       "SURRY HILLS            0.587473              1.869876\n",
       "CITY CENTRAL           0.660550              2.718317\n",
       "TWEED/BYRON            0.639896              0.654132"
      ]
     },
     "execution_count": 319,
     "metadata": {},
     "output_type": "execute_result"
    }
   ],
   "source": [
    "inner_2015[inner_2015['Searches_per_hundred']>0.5].set_index('LAC')[['False Positive','Searches_per_hundred']]#.describe()"
   ]
  },
  {
   "cell_type": "code",
   "execution_count": 315,
   "metadata": {
    "collapsed": false
   },
   "outputs": [
    {
     "data": {
      "text/plain": [
       "count    74.000000\n",
       "mean      0.650934\n",
       "std       0.188127\n",
       "min       0.000000\n",
       "25%       0.618999\n",
       "50%       0.696141\n",
       "75%       0.751525\n",
       "max       1.000000\n",
       "Name: False Positive, dtype: float64"
      ]
     },
     "execution_count": 315,
     "metadata": {},
     "output_type": "execute_result"
    }
   ],
   "source": [
    "inner_2015['False Positive'].describe()"
   ]
  },
  {
   "cell_type": "code",
   "execution_count": 321,
   "metadata": {
    "collapsed": false
   },
   "outputs": [
    {
     "data": {
      "text/plain": [
       "0.6961409070324125"
      ]
     },
     "execution_count": 321,
     "metadata": {},
     "output_type": "execute_result"
    }
   ],
   "source": [
    "inner_2015['False Positive'].median()"
   ]
  },
  {
   "cell_type": "code",
   "execution_count": 303,
   "metadata": {
    "collapsed": false
   },
   "outputs": [
    {
     "name": "stderr",
     "output_type": "stream",
     "text": [
      "/Users/jmacdonald/anaconda/lib/python3.5/site-packages/numpy/lib/function_base.py:564: VisibleDeprecationWarning: using a non-integer number instead of an integer will result in an error in the future\n",
      "  n = np.zeros(bins, ntype)\n",
      "/Users/jmacdonald/anaconda/lib/python3.5/site-packages/numpy/lib/function_base.py:611: VisibleDeprecationWarning: using a non-integer number instead of an integer will result in an error in the future\n",
      "  n += np.bincount(indices, weights=tmp_w, minlength=bins).astype(ntype)\n",
      "/Users/jmacdonald/anaconda/lib/python3.5/site-packages/statsmodels/nonparametric/kdetools.py:20: VisibleDeprecationWarning: using a non-integer number instead of an integer will result in an error in the future\n",
      "  y = X[:m/2+1] + np.r_[0,X[m/2+1:],0]*1j\n"
     ]
    },
    {
     "data": {
      "text/plain": [
       "<matplotlib.axes._subplots.AxesSubplot at 0x124439e80>"
      ]
     },
     "execution_count": 303,
     "metadata": {},
     "output_type": "execute_result"
    },
    {
     "data": {
      "image/png": "[encoded data removed]",
      "text/plain": [
       "<matplotlib.figure.Figure at 0x120f58c18>"
      ]
     },
     "metadata": {},
     "output_type": "display_data"
    }
   ],
   "source": [
    "plt.figure(figsize=(5.5*1.7,5.5))\n",
    "sns.distplot(inner_2015['False Positive'])"
   ]
  }
 ],
 "metadata": {
  "kernelspec": {
   "display_name": "Python 3",
   "language": "python",
   "name": "python3"
  },
  "language_info": {
   "codemirror_mode": {
    "name": "ipython",
    "version": 3
   },
   "file_extension": ".py",
   "mimetype": "text/x-python",
   "name": "python",
   "nbconvert_exporter": "python",
   "pygments_lexer": "ipython3",
   "version": "3.5.1"
  }
 },
 "nbformat": 4,
 "nbformat_minor": 0
}
